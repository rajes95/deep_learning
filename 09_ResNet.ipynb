{
 "cells": [
  {
   "cell_type": "markdown",
   "metadata": {
    "id": "view-in-github"
   },
   "source": [
    "<a href=\"https://colab.research.google.com/github/CS7140/PA-7/blob/main/Q5.ipynb\" target=\"_parent\"><img src=\"https://colab.research.google.com/assets/colab-badge.svg\" alt=\"Open In Colab\"/></a>"
   ]
  },
  {
   "cell_type": "markdown",
   "metadata": {
    "id": "gq5H7Kt_DLyE"
   },
   "source": [
    "Rajesh Sakhamuru\n",
    "\n",
    "11-7-2020\n",
    "# ResNet Implementation\n",
    "ResNet implementation is below:"
   ]
  },
  {
   "cell_type": "code",
   "execution_count": 1,
   "metadata": {
    "id": "1sdIo6VZNiK4"
   },
   "outputs": [],
   "source": [
    "import numpy as np\n",
    "import pandas as pd\n",
    "import tensorflow as tf\n",
    "import matplotlib.pyplot as plt"
   ]
  },
  {
   "cell_type": "code",
   "execution_count": 2,
   "metadata": {
    "colab": {
     "base_uri": "https://localhost:8080/"
    },
    "id": "OlypWaltVsSa",
    "outputId": "4c2bb906-b0fb-4107-aa55-da72e78d01e6"
   },
   "outputs": [
    {
     "name": "stdout",
     "output_type": "stream",
     "text": [
      "INFO:tensorflow:Using MirroredStrategy with devices ('/job:localhost/replica:0/task:0/device:GPU:0',)\n"
     ]
    }
   ],
   "source": [
    "strategy = tf.distribute.MirroredStrategy()"
   ]
  },
  {
   "cell_type": "code",
   "execution_count": 3,
   "metadata": {
    "id": "t9DP_mdAO_Jb"
   },
   "outputs": [],
   "source": [
    "with strategy.scope():\n",
    "    (train_images, train_labels), (test_images, test_labels) = tf.keras.datasets.fashion_mnist.load_data()\n",
    "\n",
    "    train_labels = tf.convert_to_tensor(train_labels)\n",
    "    test_labels = tf.convert_to_tensor(test_labels)\n",
    "\n",
    "    train_images = train_images.reshape((train_images.shape[0], 28, 28, 1))\n",
    "    test_images = test_images.reshape((test_images.shape[0], 28, 28, 1))\n",
    "\n",
    "    # resizes images and pads resized image with 0s so convolutions+pooling don't shrink\n",
    "    # resolution too much\n",
    "    train_images = tf.image.resize_with_pad(train_images, 112, 112)\n",
    "    test_images = tf.image.resize_with_pad(test_images, 112, 112)\n",
    "\n",
    "    train_images = tf.convert_to_tensor((train_images) / 255)\n",
    "    test_images = tf.convert_to_tensor((test_images) / 255)\n"
   ]
  },
  {
   "cell_type": "code",
   "execution_count": 4,
   "metadata": {
    "id": "ds8gvdF2LiyU"
   },
   "outputs": [],
   "source": [
    "class residualBlock(tf.keras.Model):\n",
    "    def __init__(self, numFilters=3, use1x1Conv=False, strides=1):\n",
    "        super().__init__()\n",
    "        self.block = tf.keras.Sequential([\n",
    "            tf.keras.layers.Conv2D(numFilters, padding='same', kernel_size=3, strides=strides),\n",
    "            tf.keras.layers.BatchNormalization(),\n",
    "            tf.keras.layers.Activation('relu'),\n",
    "            tf.keras.layers.Conv2D(numFilters, padding='same', kernel_size=3, strides=1),\n",
    "            tf.keras.layers.BatchNormalization()])\n",
    "        self.oneXoneBlock = None\n",
    "        if use1x1Conv:\n",
    "            self.oneXoneBlock = tf.keras.layers.Conv2D(numFilters, kernel_size=1, strides=strides)\n",
    "\n",
    "    def call(self, X):\n",
    "        Y = self.block(X)\n",
    "        if self.oneXoneBlock is not None:\n",
    "            X = self.oneXoneBlock(X)\n",
    "        Y += X\n",
    "        return tf.keras.activations.relu(Y)"
   ]
  },
  {
   "cell_type": "code",
   "execution_count": 5,
   "metadata": {
    "id": "ZzVHd-KoZWXP"
   },
   "outputs": [],
   "source": [
    "def resNet18(lr=0.05):\n",
    "    resNet = tf.keras.models.Sequential([\n",
    "        tf.keras.layers.Conv2D(64, kernel_size=7, strides=2, padding='same', input_shape=(112, 112, 1)),\n",
    "        tf.keras.layers.BatchNormalization(),\n",
    "        tf.keras.layers.Activation('relu'),\n",
    "        tf.keras.layers.MaxPool2D(pool_size=3, strides=2, padding='same'),\n",
    "        residualBlock(numFilters=64),\n",
    "        residualBlock(numFilters=64),\n",
    "        residualBlock(numFilters=128, use1x1Conv=True, strides=2),\n",
    "        residualBlock(numFilters=128),\n",
    "        residualBlock(numFilters=256, use1x1Conv=True, strides=2),\n",
    "        residualBlock(numFilters=256),\n",
    "        residualBlock(numFilters=512, use1x1Conv=True, strides=2),\n",
    "        residualBlock(numFilters=512),\n",
    "        tf.keras.layers.GlobalAvgPool2D(),\n",
    "        tf.keras.layers.Dense(units=10)\n",
    "    ])\n",
    "    optimizer = tf.keras.optimizers.SGD(learning_rate=lr)\n",
    "    resNet.compile(optimizer=optimizer,\n",
    "              loss=tf.keras.losses.SparseCategoricalCrossentropy(from_logits=True),\n",
    "              metrics=['accuracy'])\n",
    "    return resNet"
   ]
  },
  {
   "cell_type": "code",
   "execution_count": 6,
   "metadata": {
    "id": "3wRKtSiqsS1h"
   },
   "outputs": [],
   "source": [
    "def plotAccuracyAndLoss(history, epochs):\n",
    "    plt.title(\"Train vs Test Accuracy over Epochs\")\n",
    "    plt.plot(range(1,epochs+1), history.history['accuracy'], 'b-', label='train accuracy')\n",
    "    plt.plot(range(1,epochs+1), history.history['val_accuracy'], 'r-', label='test accuracy')\n",
    "    plt.ylabel(\"accuracy\")\n",
    "    plt.xlabel(\"epoch number\")\n",
    "    plt.legend()\n",
    "    plt.show()\n",
    "\n",
    "    plt.title(\"Train vs Test Loss over Epochs\")\n",
    "    plt.plot(range(1,epochs+1), history.history['loss'], 'b-', label='train loss')\n",
    "    plt.plot(range(1,epochs+1), history.history['val_loss'], 'r-', label='test loss')\n",
    "    plt.ylabel(\"loss\")\n",
    "    plt.xlabel(\"epoch number\")\n",
    "    plt.legend()\n",
    "    plt.show()"
   ]
  },
  {
   "cell_type": "code",
   "execution_count": 13,
   "metadata": {
    "colab": {
     "base_uri": "https://localhost:8080/",
     "height": 953
    },
    "id": "007YbHmXsUJH",
    "outputId": "43ec5e23-e816-41bd-ed4e-d03d473d7196"
   },
   "outputs": [
    {
     "name": "stdout",
     "output_type": "stream",
     "text": [
      "Epoch 1/10\n",
      "469/469 - 55s - loss: 0.4453 - accuracy: 0.8416 - val_loss: 0.5523 - val_accuracy: 0.8120\n",
      "Epoch 2/10\n",
      "469/469 - 52s - loss: 0.2431 - accuracy: 0.9099 - val_loss: 0.4348 - val_accuracy: 0.8443\n",
      "Epoch 3/10\n",
      "469/469 - 53s - loss: 0.1865 - accuracy: 0.9316 - val_loss: 0.3302 - val_accuracy: 0.8771\n",
      "Epoch 4/10\n",
      "469/469 - 53s - loss: 0.1461 - accuracy: 0.9462 - val_loss: 0.3457 - val_accuracy: 0.8810\n",
      "Epoch 5/10\n",
      "469/469 - 52s - loss: 0.1137 - accuracy: 0.9585 - val_loss: 0.4849 - val_accuracy: 0.8466\n",
      "Epoch 6/10\n",
      "469/469 - 52s - loss: 0.0825 - accuracy: 0.9708 - val_loss: 0.2824 - val_accuracy: 0.9098\n",
      "Epoch 7/10\n",
      "469/469 - 53s - loss: 0.0589 - accuracy: 0.9789 - val_loss: 0.5086 - val_accuracy: 0.8715\n",
      "Epoch 8/10\n",
      "469/469 - 53s - loss: 0.0467 - accuracy: 0.9840 - val_loss: 0.4417 - val_accuracy: 0.8693\n",
      "Epoch 9/10\n",
      "469/469 - 53s - loss: 0.0334 - accuracy: 0.9887 - val_loss: 0.3233 - val_accuracy: 0.9141\n",
      "Epoch 10/10\n",
      "469/469 - 53s - loss: 0.0186 - accuracy: 0.9944 - val_loss: 0.3052 - val_accuracy: 0.9253\n"
     ]
    },
    {
     "data": {
      "image/png": "[encoded data removed]",
      "text/plain": [
       "<Figure size 432x288 with 1 Axes>"
      ]
     },
     "metadata": {
      "needs_background": "light",
      "tags": []
     },
     "output_type": "display_data"
    },
    {
     "data": {
      "image/png": "[encoded data removed]",
      "text/plain": [
       "<Figure size 432x288 with 1 Axes>"
      ]
     },
     "metadata": {
      "needs_background": "light",
      "tags": []
     },
     "output_type": "display_data"
    }
   ],
   "source": [
    "with strategy.scope():\n",
    "    resNet = resNet18(lr=0.05)\n",
    "    history1 = resNet.fit(train_images, train_labels, epochs=10, batch_size=128, validation_data=(test_images, test_labels), verbose=2)\n",
    "    plotAccuracyAndLoss(history1,10)"
   ]
  },
  {
   "cell_type": "markdown",
   "metadata": {
    "id": "Ofv_9XYm09JN"
   },
   "source": [
    "We cannot just increase the complexity of function without bound, even if the function classes are nested. In the case of non-nested function classes, a larger function class does not guarantee that the function will be any closer to the \"truth\" function. Only if the larger functions contain the smaller ones can increasing complexity can the function be more expressive and potentially reduce training errors. \n",
    "\n",
    "However, even in the case where function classes are nested, arbitrarily increasing complexity of functions without bound the increased complexity does not bring the function any closer to the \"truth\" function which we are trying to find, because we don't know if the \"truth\" function is within the function of increased complexity or not. Additionally, overly complex functions tend to overfit to the training data while not improving at all the performance on testing data compared to simpler functions."
   ]
  },
  {
   "cell_type": "code",
   "execution_count": 9,
   "metadata": {
    "colab": {
     "base_uri": "https://localhost:8080/"
    },
    "id": "UPmrpcZKstCJ",
    "outputId": "3f13f2f3-1581-465a-e174-47b3e52621bd"
   },
   "outputs": [
    {
     "name": "stdout",
     "output_type": "stream",
     "text": [
      "Model: \"sequential_17\"\n",
      "_________________________________________________________________\n",
      "Layer (type)                 Output Shape              Param #   \n",
      "=================================================================\n",
      "conv2d_20 (Conv2D)           (None, 56, 56, 64)        3200      \n",
      "_________________________________________________________________\n",
      "batch_normalization_17 (Batc (None, 56, 56, 64)        256       \n",
      "_________________________________________________________________\n",
      "activation_9 (Activation)    (None, 56, 56, 64)        0         \n",
      "_________________________________________________________________\n",
      "max_pooling2d_1 (MaxPooling2 (None, 28, 28, 64)        0         \n",
      "_________________________________________________________________\n",
      "residual_block_8 (residualBl (None, 28, 28, 64)        74368     \n",
      "_________________________________________________________________\n",
      "residual_block_9 (residualBl (None, 28, 28, 64)        74368     \n",
      "_________________________________________________________________\n",
      "residual_block_10 (residualB (None, 14, 14, 128)       230784    \n",
      "_________________________________________________________________\n",
      "residual_block_11 (residualB (None, 14, 14, 128)       296192    \n",
      "_________________________________________________________________\n",
      "residual_block_12 (residualB (None, 7, 7, 256)         920320    \n",
      "_________________________________________________________________\n",
      "residual_block_13 (residualB (None, 7, 7, 256)         1182208   \n",
      "_________________________________________________________________\n",
      "residual_block_14 (residualB (None, 4, 4, 512)         3675648   \n",
      "_________________________________________________________________\n",
      "residual_block_15 (residualB (None, 4, 4, 512)         4723712   \n",
      "_________________________________________________________________\n",
      "global_average_pooling2d_1 ( (None, 512)               0         \n",
      "_________________________________________________________________\n",
      "dense_1 (Dense)              (None, 10)                5130      \n",
      "=================================================================\n",
      "Total params: 11,186,186\n",
      "Trainable params: 11,178,378\n",
      "Non-trainable params: 7,808\n",
      "_________________________________________________________________\n"
     ]
    }
   ],
   "source": [
    "resNet.summary()"
   ]
  }
 ],
 "metadata": {
  "accelerator": "GPU",
  "colab": {
   "name": "Q5.ipynb",
   "provenance": []
  },
  "kernelspec": {
   "display_name": "Python 3",
   "language": "python",
   "name": "python3"
  },
  "language_info": {
   "codemirror_mode": {
    "name": "ipython",
    "version": 3
   },
   "file_extension": ".py",
   "mimetype": "text/x-python",
   "name": "python",
   "nbconvert_exporter": "python",
   "pygments_lexer": "ipython3",
   "version": "3.8.5"
  }
 },
 "nbformat": 4,
 "nbformat_minor": 1
}
