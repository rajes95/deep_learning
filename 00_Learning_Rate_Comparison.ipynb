{
 "cells": [
  {
   "cell_type": "markdown",
   "metadata": {
    "colab_type": "text",
    "id": "view-in-github"
   },
   "source": [
    "<a href=\"https://colab.research.google.com/github/CS7140/PA-1/blob/master/Q3.ipynb\" target=\"_parent\"><img src=\"https://colab.research.google.com/assets/colab-badge.svg\" alt=\"Open In Colab\"/></a>"
   ]
  },
  {
   "cell_type": "markdown",
   "metadata": {
    "colab_type": "text",
    "id": "0u_GzOE8-F6t"
   },
   "source": [
    "Rajesh Sakhamuru\n",
    "\n",
    "9-12-20\n",
    "\n",
    "## Comparing Learning Rates in Gradient Descent"
   ]
  },
  {
   "cell_type": "code",
   "execution_count": 1,
   "metadata": {
    "colab": {},
    "colab_type": "code",
    "id": "6wbq4YVHGARN"
   },
   "outputs": [],
   "source": [
    "import pandas as pd\n",
    "import numpy as np\n",
    "import matplotlib.pyplot as plt\n",
    "import math"
   ]
  },
  {
   "cell_type": "markdown",
   "metadata": {},
   "source": [
    "Below is the mock data being used:"
   ]
  },
  {
   "cell_type": "code",
   "execution_count": 2,
   "metadata": {
    "colab": {
     "base_uri": "https://localhost:8080/",
     "height": 397
    },
    "colab_type": "code",
    "id": "2DcIa1DjBBr5",
    "outputId": "09fe2dd1-4c92-465a-e738-bfd7558bcdaa"
   },
   "outputs": [
    {
     "data": {
      "text/plain": [
       "array([0.20976797, 0.66131029, 0.47925126, 0.70110275, 0.61623334,\n",
       "       0.27724186, 0.54893927, 0.1380137 , 0.4550298 , 0.63460832,\n",
       "       0.76713349, 0.29287351, 0.33896275, 0.61804607, 0.4103887 ,\n",
       "       0.79815676, 0.93699007, 0.80057104, 0.86742569, 0.18611302,\n",
       "       0.02442366, 0.39123224, 0.10133918, 0.09751001, 0.85147343,\n",
       "       0.89585527, 0.64771396, 0.77241932, 0.67875911, 0.95034431,\n",
       "       0.87588507, 0.78866135, 0.04532864, 0.95969121, 0.29597985,\n",
       "       0.43420793, 0.63733491, 0.7053184 , 0.94713498, 0.65618646,\n",
       "       0.69106431, 0.87910953, 0.56227283, 0.11180593, 0.79100971,\n",
       "       0.0944198 , 0.08339207, 0.19967393, 0.30199329, 0.07398306,\n",
       "       0.42838855, 0.26518325, 0.81837086, 0.64938323, 0.58931474,\n",
       "       0.37352941, 0.64657245, 0.21318394, 0.73404012, 0.39091586,\n",
       "       0.77058886, 0.89714316, 0.98048728, 0.26543382, 0.00464928,\n",
       "       0.23296852, 0.5635817 , 0.05121384, 0.01280696, 0.91772925,\n",
       "       0.32810981, 0.69753416, 0.0679006 , 0.01129447, 0.75812698,\n",
       "       0.30083315, 0.20559123, 0.02223717, 0.31364401, 0.66577436,\n",
       "       0.73909255, 0.88724138, 0.4103947 , 0.20866742, 0.68930251,\n",
       "       0.80406172, 0.67661238, 0.55484749, 0.31754101, 0.16562716,\n",
       "       0.85888792, 0.34886172, 0.53637168, 0.94392734, 0.84925261,\n",
       "       0.50179025, 0.38474668, 0.33005631, 0.04600023, 0.38078818])"
      ]
     },
     "execution_count": 2,
     "metadata": {
      "tags": []
     },
     "output_type": "execute_result"
    }
   ],
   "source": [
    "y_values = np.random.uniform(0,1,100)\n",
    "y_values"
   ]
  },
  {
   "cell_type": "code",
   "execution_count": 3,
   "metadata": {
    "colab": {
     "base_uri": "https://localhost:8080/",
     "height": 265
    },
    "colab_type": "code",
    "id": "cZmY8Gj3BUFC",
    "outputId": "f63219c0-0fb2-4ec8-8927-cb32dbce4f73"
   },
   "outputs": [
    {
     "data": {
      "image/png": "[encoded data removed]",
      "text/plain": [
       "<Figure size 432x288 with 1 Axes>"
      ]
     },
     "metadata": {
      "needs_background": "light",
      "tags": []
     },
     "output_type": "display_data"
    }
   ],
   "source": [
    "# plot of data generated\n",
    "plt.plot(y_values, 'bo')\n",
    "plt.show()"
   ]
  },
  {
   "cell_type": "code",
   "execution_count": 4,
   "metadata": {
    "colab": {
     "base_uri": "https://localhost:8080/",
     "height": 283
    },
    "colab_type": "code",
    "id": "3sdmbTssxbr1",
    "outputId": "c3f48b14-4b3f-4940-ff15-87b473ddd4e5"
   },
   "outputs": [
    {
     "name": "stdout",
     "output_type": "stream",
     "text": [
      "    b   x         y\n",
      "0   1  23  0.101339\n",
      "1   1  55  0.589315\n",
      "2   1  61  0.770589\n",
      "3   1  71  0.328110\n",
      "4   1  37  0.637335\n",
      ".. ..  ..       ...\n",
      "95  1   3  0.479251\n",
      "96  1  34  0.959691\n",
      "97  1  69  0.012807\n",
      "98  1  26  0.895855\n",
      "99  1  13  0.338963\n",
      "\n",
      "[100 rows x 3 columns]\n"
     ]
    }
   ],
   "source": [
    "dataSet = pd.DataFrame()\n",
    "dataSet[\"x\"] = range(1,101)\n",
    "dataSet[\"y\"] = y_values\n",
    "dataSet[\"b\"] = 1 # bias\n",
    "dataSet = dataSet.sample(frac=1).reset_index(drop=True)\n",
    "\n",
    "dataSet = dataSet[['b','x','y']]\n",
    "target = 'y'\n",
    "print(dataSet)"
   ]
  },
  {
   "cell_type": "code",
   "execution_count": 5,
   "metadata": {
    "colab": {},
    "colab_type": "code",
    "id": "7FeFKjHFChbk"
   },
   "outputs": [],
   "source": [
    "def getColNames(data):\n",
    "  '''\n",
    "  Returns list of column names of data given\n",
    "  :param data: pandas dataframe\n",
    "  '''\n",
    "  return list(data.columns)"
   ]
  },
  {
   "cell_type": "code",
   "execution_count": 6,
   "metadata": {
    "colab": {},
    "colab_type": "code",
    "id": "hsoAyxboOx3A"
   },
   "outputs": [],
   "source": [
    "def calculateSSE(data, target, weightsMatrix):\n",
    "  '''\n",
    "  This function can be used to determine \n",
    "  the SSE indicating how much error the model has over the data and its \n",
    "  predictions.\n",
    "  '''\n",
    "\n",
    "  targetCol = data[target].values.tolist()\n",
    "\n",
    "  testData = data.drop(columns=[target])\n",
    "  testRowsList = testData.values.tolist()\n",
    "  SSE = 0\n",
    "\n",
    "  # calculate squared errors for each row in testing data and sum them for the SSE\n",
    "  for n in range(len(testRowsList)):\n",
    "    row = testRowsList[n]\n",
    "    row = np.array(row)\n",
    "\n",
    "    prediction = float(np.sum((weightsMatrix.T * row)))\n",
    "    actual = float(targetCol[n])\n",
    "    # print(row, \"\\nprediction:\", prediction, \"actual:\", actual, \"  \")\n",
    "\n",
    "    SSE += (prediction - actual) * (prediction - actual)\n",
    "\n",
    "  return SSE"
   ]
  },
  {
   "cell_type": "code",
   "execution_count": 58,
   "metadata": {
    "colab": {},
    "colab_type": "code",
    "id": "4ZDn1xy0LxVP"
   },
   "outputs": [],
   "source": [
    "def gradientDescent(originalData, target, learningRate, tolerance):\n",
    "  \"\"\"\n",
    "  Uses Stochastic Gradient Descent to create a linear model which reflects training\n",
    "  \"\"\"\n",
    "  data = originalData.copy()\n",
    "  colNames = getColNames(data)\n",
    "  allData = np.array(data)\n",
    "\n",
    "  featList = colNames.copy()\n",
    "  if target in colNames:\n",
    "      featList.remove(target)\n",
    "  \n",
    "  weights = [[0],[1]]\n",
    "  weightsMatrix = np.array(weights)\n",
    "\n",
    "  targetCol = data[target].values.tolist()\n",
    "  targetMatrix = np.array([[n] for n in targetCol])\n",
    "\n",
    "  dataMatrix = np.array(data.drop(columns=[target]))\n",
    "\n",
    "  converged = False\n",
    "  count = 0\n",
    "\n",
    "  SSE = calculateSSE(data, target, weightsMatrix)\n",
    "  priorRMSE = math.sqrt(SSE / len(data))\n",
    "  RMSEList = [priorRMSE]\n",
    "\n",
    "\n",
    "  while not converged:\n",
    "      # calculate gradient\n",
    "      randomRow = allData[np.random.choice(allData.shape[0], 1, replace=False), :]      \n",
    "     \n",
    "      derivIntercept = -2*(randomRow[0][2] - (weightsMatrix[0][0] + weightsMatrix[1][0] * randomRow[0][1]))\n",
    "      derivSlope = -2*randomRow[0][1] * (randomRow[0][2] - (weightsMatrix[0][0] + weightsMatrix[1][0] * randomRow[0][1]))\n",
    "\n",
    "      gradient = np.array([[derivIntercept],[derivSlope]])\n",
    "\n",
    "      newWeights = (weightsMatrix - (learningRate * gradient))\n",
    "      weightsMatrix = newWeights\n",
    "\n",
    "      SSE = calculateSSE(data, target, weightsMatrix)\n",
    "      currentRMSE = math.sqrt(SSE / len(data))\n",
    "\n",
    "      if (abs(priorRMSE - currentRMSE) < tolerance):\n",
    "        converged = True\n",
    "\n",
    "      priorRMSE = currentRMSE\n",
    "      RMSEList.append(priorRMSE)\n",
    "\n",
    "      count += 1\n",
    "      if count >= 200:\n",
    "        converged = True\n",
    "\n",
    "  return weightsMatrix, RMSEList"
   ]
  },
  {
   "cell_type": "markdown",
   "metadata": {
    "colab_type": "text",
    "id": "Hvt4aIPsPA2e"
   },
   "source": [
    "RMSE plot for Stochastic Gradient Descent with high learning rate:"
   ]
  },
  {
   "cell_type": "code",
   "execution_count": 91,
   "metadata": {
    "colab": {
     "base_uri": "https://localhost:8080/",
     "height": 295
    },
    "colab_type": "code",
    "id": "4MNu1v_sOo4R",
    "outputId": "2f59383c-d253-44b3-bceb-abd383580836"
   },
   "outputs": [
    {
     "data": {
      "image/png": "[encoded data removed]",
      "text/plain": [
       "<Figure size 432x288 with 1 Axes>"
      ]
     },
     "metadata": {
      "needs_background": "light",
      "tags": []
     },
     "output_type": "display_data"
    }
   ],
   "source": [
    "learningRate = 0.00015\n",
    "tolerance = 0.001\n",
    "\n",
    "weightsMatrix, RMSEList = gradientDescent(dataSet,target,learningRate,tolerance)\n",
    "\n",
    "title = \"RMSE Training Plot with learningRate 0.00015\"\n",
    "plt.plot(RMSEList, 'bo')\n",
    "plt.title(title)\n",
    "plt.ylabel(\"RMSE Values\")\n",
    "plt.xlabel(\"Iteration Number\")\n",
    "plt.show()\n"
   ]
  },
  {
   "cell_type": "markdown",
   "metadata": {
    "colab_type": "text",
    "id": "QBzJA0hrPixe"
   },
   "source": [
    "RMSE plot for Stochastic Gradient Descent with low learning rate:"
   ]
  },
  {
   "cell_type": "code",
   "execution_count": 90,
   "metadata": {
    "colab": {
     "base_uri": "https://localhost:8080/",
     "height": 295
    },
    "colab_type": "code",
    "id": "109l1eVIOshG",
    "outputId": "e64dd461-0c96-48ca-c15d-44025dbd1c48"
   },
   "outputs": [
    {
     "data": {
      "image/png": "[encoded data removed]",
      "text/plain": [
       "<Figure size 432x288 with 1 Axes>"
      ]
     },
     "metadata": {
      "needs_background": "light",
      "tags": []
     },
     "output_type": "display_data"
    }
   ],
   "source": [
    "learningRate = 0.00001\n",
    "tolerance = 0.001\n",
    "\n",
    "weightsMatrix, RMSEList = gradientDescent(dataSet,target,learningRate,tolerance)\n",
    "\n",
    "title = \"RMSE Training Plot with learningRate 0.00001\"\n",
    "plt.plot(RMSEList, 'bo')\n",
    "plt.title(title)\n",
    "plt.ylabel(\"RMSE Values\")\n",
    "plt.xlabel(\"Iteration Number\")\n",
    "plt.show()\n"
   ]
  },
  {
   "cell_type": "markdown",
   "metadata": {
    "colab_type": "text",
    "id": "9AQaGgfrO464"
   },
   "source": [
    "### Conclusion:\n",
    "I used two different learning rates for the Stochastic Gradient Descent, 0.00015 and 0.00001 . The error plot for the larger learning rate leads to significantly faster initial convergence and a larger terminal error than does the plot with a lower learning rate. Although the larger learning rate has a larger terminal error range, it is also quite close to 0 and not a bad choice for a faster calculation if that is what is desired."
   ]
  }
 ],
 "metadata": {
  "colab": {
   "collapsed_sections": [],
   "name": "Q3.ipynb",
   "provenance": []
  },
  "kernelspec": {
   "display_name": "Python 3",
   "language": "python",
   "name": "python3"
  },
  "language_info": {
   "codemirror_mode": {
    "name": "ipython",
    "version": 3
   },
   "file_extension": ".py",
   "mimetype": "text/x-python",
   "name": "python",
   "nbconvert_exporter": "python",
   "pygments_lexer": "ipython3",
   "version": "3.8.5"
  }
 },
 "nbformat": 4,
 "nbformat_minor": 1
}
