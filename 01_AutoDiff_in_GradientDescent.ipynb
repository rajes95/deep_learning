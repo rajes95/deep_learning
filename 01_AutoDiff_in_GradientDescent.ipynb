{
 "cells": [
  {
   "cell_type": "markdown",
   "metadata": {
    "id": "view-in-github"
   },
   "source": [
    "<a href=\"https://colab.research.google.com/github/CS7140/PA-2/blob/master/Q2.ipynb\" target=\"_parent\"><img src=\"https://colab.research.google.com/assets/colab-badge.svg\" alt=\"Open In Colab\"/></a>"
   ]
  },
  {
   "cell_type": "markdown",
   "metadata": {
    "id": "xdpfcep8_A27"
   },
   "source": [
    "## Predicting Gumbel Distribution Constants via Gradient Descent and AutoDiff"
   ]
  },
  {
   "cell_type": "code",
   "execution_count": 1,
   "metadata": {
    "id": "Dhw7Zsvf72na"
   },
   "outputs": [],
   "source": [
    "import tensorflow as tf\n",
    "import numpy as np\n",
    "import matplotlib.pyplot as plt\n",
    "import pandas as pd\n",
    "import statistics as st\n",
    "tf.compat.v1.logging.set_verbosity(tf.compat.v1.logging.ERROR)"
   ]
  },
  {
   "cell_type": "code",
   "execution_count": 2,
   "metadata": {
    "id": "DMJaI0daurHe"
   },
   "outputs": [],
   "source": [
    "def generateGumbelDistribution(alpha_loc, beta_scale, n_numDataPoints):\n",
    "    return tf.convert_to_tensor(np.random.gumbel(loc=alpha_loc, scale=beta_scale, size=n_numDataPoints), dtype=tf.float32)"
   ]
  },
  {
   "cell_type": "code",
   "execution_count": 3,
   "metadata": {
    "colab": {
     "base_uri": "https://localhost:8080/",
     "height": 529
    },
    "id": "iitoUzTzHJgQ",
    "outputId": "dd458ed9-ce96-41a7-a3b6-e24d7e72c627"
   },
   "outputs": [
    {
     "data": {
      "image/png": "[encoded data removed]",
      "text/plain": [
       "<Figure size 432x288 with 1 Axes>"
      ]
     },
     "metadata": {
      "needs_background": "light",
      "tags": []
     },
     "output_type": "display_data"
    },
    {
     "data": {
      "image/png": "[encoded data removed]",
      "text/plain": [
       "<Figure size 432x288 with 1 Axes>"
      ]
     },
     "metadata": {
      "needs_background": "light",
      "tags": []
     },
     "output_type": "display_data"
    }
   ],
   "source": [
    "n_numDataPoints = 1000\n",
    "alpha_loc = 50 # real number\n",
    "beta_scale = 45  # beta > 0\n",
    "\n",
    "gumbelDist = generateGumbelDistribution(alpha_loc,beta_scale,n_numDataPoints)\n",
    "\n",
    "plt.plot(gumbelDist, 'bo')\n",
    "plt.title(str(n_numDataPoints) + \" Random Datapoints from Gumbel Distribution\")\n",
    "plt.show()\n",
    "\n",
    "plt.scatter(gumbelDist, np.zeros_like(gumbelDist))\n",
    "plt.yticks([])\n",
    "plt.show()"
   ]
  },
  {
   "cell_type": "code",
   "execution_count": 4,
   "metadata": {
    "id": "YXNgycUJmYuh"
   },
   "outputs": [],
   "source": [
    "def p(x, alphaBeta):\n",
    "    alpha = alphaBeta[0][0]\n",
    "    beta = alphaBeta[1][0]\n",
    "\n",
    "    p = 1/beta * tf.math.exp(-1*(x-alpha)/beta) * tf.math.exp(-1*tf.math.exp(-1*(x-alpha)/beta))\n",
    "    return p\n",
    "\n",
    "def logLikelihoodP(x,alphaBeta):\n",
    "    return tf.math.reduce_sum(tf.math.log(p(x,alphaBeta)))"
   ]
  },
  {
   "cell_type": "code",
   "execution_count": 5,
   "metadata": {
    "colab": {
     "base_uri": "https://localhost:8080/",
     "height": 359
    },
    "id": "37pqQaND_r50",
    "outputId": "cc181508-9cdb-45b2-ef17-1d2b663a6761"
   },
   "outputs": [
    {
     "name": "stdout",
     "output_type": "stream",
     "text": [
      "Alpha: 51.904170989990234 Beta: 47.59280014038086\n",
      "Alpha: 51.97541809082031 Beta: 46.71586990356445\n",
      "Alpha: 52.00294876098633 Beta: 46.33827209472656\n",
      "Alpha: 52.015220642089844 Beta: 46.161163330078125\n",
      "Alpha: 52.02101516723633 Beta: 46.07522964477539\n",
      "Alpha: 52.023841857910156 Beta: 46.03288269042969\n",
      "Alpha: 52.02524948120117 Beta: 46.01185989379883\n",
      "Alpha: 52.02592849731445 Beta: 46.001373291015625\n",
      "Alpha: 52.026275634765625 Beta: 45.99614334106445\n",
      "Alpha: 52.02644348144531 Beta: 45.9935417175293\n",
      "Alpha: 52.02653503417969 Beta: 45.99222946166992\n",
      "Alpha: 52.026588439941406 Beta: 45.9915885925293\n",
      "Alpha: 52.02659225463867 Beta: 45.991249084472656\n",
      "Alpha: 52.026607513427734 Beta: 45.99109649658203\n",
      "Alpha: 52.0265998840332 Beta: 45.99100112915039\n"
     ]
    },
    {
     "data": {
      "text/plain": [
       "<tf.Tensor: shape=(2, 1), dtype=float32, numpy=\n",
       "array([[52.0266],\n",
       "       [45.991 ]], dtype=float32)>"
      ]
     },
     "execution_count": 5,
     "metadata": {
      "tags": []
     },
     "output_type": "execute_result"
    }
   ],
   "source": [
    "def estimateGumbelAlphaBeta(gumbelDist, learningRate = 0.5, verbose = False):\n",
    "    #Gumbel Dist Method of Moments Estimator:\n",
    "    a = float(tf.math.reduce_mean(gumbelDist) - 0.4501 * tf.math.reduce_std(gumbelDist))\n",
    "    b = float(0.7977 * tf.math.reduce_std(gumbelDist))\n",
    "    if verbose is True:\n",
    "        print(\"Alpha:\",a,\"Beta:\",b)\n",
    "    oldAlphaBeta = tf.convert_to_tensor([[a],[b]],dtype=tf.float32)\n",
    "    \n",
    "    for _ in range(30):\n",
    "        oldAlphaBeta = tf.Variable(oldAlphaBeta)\n",
    "\n",
    "        with tf.GradientTape() as t2:\n",
    "            with tf.GradientTape() as t1:\n",
    "                logL = logLikelihoodP(gumbelDist, oldAlphaBeta)\n",
    "            #1st Derivative\n",
    "            alphaBetaDerivs = t1.gradient(logL, oldAlphaBeta)\n",
    "        #2nd Derivative\n",
    "        alphaBetaHessian = t2.jacobian(alphaBetaDerivs, oldAlphaBeta)\n",
    "\n",
    "        alphaBetaHessian = tf.reshape(alphaBetaHessian,[2,2])\n",
    "        alphaBetaHessianInv = tf.linalg.inv(alphaBetaHessian)\n",
    "\n",
    "        newAlphaBeta = oldAlphaBeta - learningRate*tf.tensordot(alphaBetaHessianInv,alphaBetaDerivs,axes=1)\n",
    "        if verbose is True:\n",
    "            print(\"Alpha:\",float(newAlphaBeta[0][0]),\"Beta:\",float(newAlphaBeta[1][0]))\n",
    "\n",
    "        if np.all(tf.math.abs(newAlphaBeta-oldAlphaBeta) <= 0.0001):\n",
    "            return newAlphaBeta\n",
    "\n",
    "        oldAlphaBeta = newAlphaBeta\n",
    "    \n",
    "#Example:\n",
    "estimateGumbelAlphaBeta(gumbelDist, verbose=True)"
   ]
  },
  {
   "cell_type": "markdown",
   "metadata": {
    "id": "YXWjY1FlRqkD"
   },
   "source": [
    "## Data Sets and Estimated Parameters:"
   ]
  },
  {
   "cell_type": "code",
   "execution_count": 6,
   "metadata": {
    "colab": {
     "base_uri": "https://localhost:8080/",
     "height": 967
    },
    "id": "zBcXjKm6KPGX",
    "outputId": "2f4265c9-5789-40ce-fff8-eb43080339f1"
   },
   "outputs": [
    {
     "name": "stdout",
     "output_type": "stream",
     "text": [
      "Expected Alpha: 23\n",
      "Expected Beta: 17\n",
      "Estimated Alpha and Beta Values at Corresponding Indices for n=100\n",
      "      Alphas      Betas    n\n",
      "0  22.288111  16.242325  100\n",
      "1  26.235548  17.355055  100\n",
      "2  21.517054  16.714687  100\n",
      "3  24.022226  17.109268  100\n",
      "4  20.610361  16.353521  100\n",
      "5  23.496843  16.354460  100\n",
      "6  21.082798  14.907123  100\n",
      "7  22.935507  16.704926  100\n",
      "8  25.737507  18.325228  100\n",
      "9  25.652775  16.818590  100\n",
      "Mean of Alphas: 23.35787296295166 Std Deviation: 2.0305202319342643\n",
      "Mean of Betas: 16.688518238067626 Std Deviation: 0.8764999342567046\n",
      "------------------------------------------------------------------------\n",
      "\n",
      "Estimated Alpha and Beta Values at Corresponding Indices for n=1000\n",
      "      Alphas      Betas     n\n",
      "0  22.996700  17.054113  1000\n",
      "1  23.019798  16.880737  1000\n",
      "2  22.281563  16.393488  1000\n",
      "3  22.185062  16.515125  1000\n",
      "4  22.102085  16.306652  1000\n",
      "5  23.337957  17.770239  1000\n",
      "6  23.556412  16.958832  1000\n",
      "7  23.242584  16.601748  1000\n",
      "8  22.862886  16.811125  1000\n",
      "9  23.683413  17.161116  1000\n",
      "Mean of Alphas: 22.9268461227417 Std Deviation: 0.5678344400989276\n",
      "Mean of Betas: 16.845317459106447 Std Deviation: 0.43163469533360393\n",
      "------------------------------------------------------------------------\n",
      "\n",
      "Estimated Alpha and Beta Values at Corresponding Indices for n=10000\n",
      "      Alphas      Betas      n\n",
      "0  22.952961  17.027081  10000\n",
      "1  23.128891  16.885664  10000\n",
      "2  22.897661  16.963104  10000\n",
      "3  23.037952  16.911835  10000\n",
      "4  23.300364  17.176100  10000\n",
      "5  22.764942  16.938862  10000\n",
      "6  23.013721  17.044676  10000\n",
      "7  22.908705  17.157091  10000\n",
      "8  23.307898  16.942110  10000\n",
      "9  23.177601  16.892277  10000\n",
      "Mean of Alphas: 23.049069595336913 Std Deviation: 0.178573806405244\n",
      "Mean of Betas: 16.993879890441896 Std Deviation: 0.10485123727063005\n",
      "------------------------------------------------------------------------\n",
      "\n"
     ]
    }
   ],
   "source": [
    "n_numDataPoints = [100,1000,10000]\n",
    "alpha_loc = 23\n",
    "beta_scale = 17\n",
    "\n",
    "print(\"Expected Alpha:\", alpha_loc)\n",
    "print(\"Expected Beta:\", beta_scale)\n",
    "\n",
    "for n in n_numDataPoints:\n",
    "\n",
    "    alphaList = []\n",
    "    betaList = []\n",
    "\n",
    "    for _ in range(10):\n",
    "\n",
    "        gumbelDist = generateGumbelDistribution(alpha_loc,beta_scale,n)\n",
    "        estimatedAlphaBeta = estimateGumbelAlphaBeta(gumbelDist,learningRate = 1)\n",
    "\n",
    "        alphaList.append(float(estimatedAlphaBeta[0][0]))\n",
    "        betaList.append(float(estimatedAlphaBeta[1][0]))\n",
    "    print(\"Estimated Alpha and Beta Values at Corresponding Indices for n=\"+str(n))\n",
    "    df = pd.DataFrame()\n",
    "    df[\"Alphas\"] = alphaList\n",
    "    df[\"Betas\"] = betaList\n",
    "    df[\"n\"] = n\n",
    "    print(df)\n",
    "    print(\"Mean of Alphas:\", st.mean(alphaList),\"Std Deviation:\",st.stdev(alphaList))\n",
    "    print(\"Mean of Betas:\", st.mean(betaList),\"Std Deviation:\",st.stdev(betaList) )\n",
    "    print(\"------------------------------------------------------------------------\\n\")\n",
    "    \n",
    "    \n",
    "\n",
    "\n",
    "\n",
    "\n"
   ]
  },
  {
   "cell_type": "markdown",
   "metadata": {
    "id": "acoh870ZSSm8"
   },
   "source": [
    "# Conclusion\n",
    "In order to implement the Newton-Raphson method to estimate alpha and beta from random data of a Gumbel distribution, the first thing is to code the p(x|a,b) function and then the Log Likelihood function. Then, using automated differentiation (TensorFlow gradientTape), we get the 1st derivative gradient and the 2nd derivative Hessian gradient. \n",
    "\n",
    "Once I got both gradients, I used the Newton Raphson method which works by gradient descent to estimate alpha and beta for each random distribution over different 'n' sample sizes (100,1000,10000). I ran into some problems where due to the initial values of alpha and beta being very far away from the actual alpha and beta values, the gradient descent would never converge. In order to solve this problem I used the Gumbel method of moments estimator to get values that were close to the actual values of alpha and beta so that the values converge at the correct local maxima. We can also see that as 'n' increases the mean estimates are more accurate and the standard deviations are lower."
   ]
  }
 ],
 "metadata": {
  "colab": {
   "collapsed_sections": [],
   "name": "Q2.ipynb",
   "provenance": []
  },
  "kernelspec": {
   "display_name": "Python 3",
   "language": "python",
   "name": "python3"
  },
  "language_info": {
   "codemirror_mode": {
    "name": "ipython",
    "version": 3
   },
   "file_extension": ".py",
   "mimetype": "text/x-python",
   "name": "python",
   "nbconvert_exporter": "python",
   "pygments_lexer": "ipython3",
   "version": "3.8.5"
  }
 },
 "nbformat": 4,
 "nbformat_minor": 1
}
