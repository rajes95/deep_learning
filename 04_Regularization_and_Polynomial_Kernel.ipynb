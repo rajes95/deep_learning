{
 "cells": [
  {
   "cell_type": "markdown",
   "metadata": {
    "id": "view-in-github"
   },
   "source": [
    "<a href=\"https://colab.research.google.com/github/CS7140/PA-4/blob/main/Q2.ipynb\" target=\"_parent\"><img src=\"https://colab.research.google.com/assets/colab-badge.svg\" alt=\"Open In Colab\"/></a>"
   ]
  },
  {
   "cell_type": "markdown",
   "metadata": {
    "id": "c4JJ3Bzt3yBr"
   },
   "source": [
    "Rajesh Sakhamuru\n",
    "# **Linear Regression using Boston Housing Data dataset**\n",
    "Gradient Descent with and without regularization\n",
    "\n",
    "housing.csv is in the 'datasets' folder of the repository. Please change the file path accordingly."
   ]
  },
  {
   "cell_type": "code",
   "execution_count": 1,
   "metadata": {
    "colab": {
     "base_uri": "https://localhost:8080/",
     "height": 56
    },
    "id": "4lI-Jir96t9T",
    "outputId": "a32aba13-d5d8-4193-de53-29cbc5249650"
   },
   "outputs": [
    {
     "name": "stdout",
     "output_type": "stream",
     "text": [
      "Drive already mounted at /content/drive; to attempt to forcibly remount, call drive.mount(\"/content/drive\", force_remount=True).\n"
     ]
    }
   ],
   "source": [
    "from google.colab import drive\n",
    "drive.mount('/content/drive')"
   ]
  },
  {
   "cell_type": "code",
   "execution_count": 2,
   "metadata": {
    "id": "bHe5eFLLp7jN"
   },
   "outputs": [],
   "source": [
    "import pandas as pd\n",
    "import numpy as np\n",
    "import statistics as st\n",
    "import matplotlib.pyplot as plt\n",
    "import math"
   ]
  },
  {
   "cell_type": "code",
   "execution_count": 3,
   "metadata": {
    "id": "e1G6dmzZ7g11"
   },
   "outputs": [],
   "source": [
    "# data visualization options for console output\n",
    "pd.set_option('display.max_columns', None)\n",
    "# pd.set_option('display.max_rows', None)\n",
    "pd.set_option('display.expand_frame_repr', False)"
   ]
  },
  {
   "cell_type": "code",
   "execution_count": 4,
   "metadata": {
    "id": "kzaksQHd_pI0"
   },
   "outputs": [],
   "source": [
    "def getColNames(data):\n",
    "    '''\n",
    "    Returns list of column names of data given\n",
    "    :param data: pandas dataframe\n",
    "    '''\n",
    "    return list(data.columns)"
   ]
  },
  {
   "cell_type": "code",
   "execution_count": 5,
   "metadata": {
    "id": "zbtyUcZB_z4o"
   },
   "outputs": [],
   "source": [
    "def calculateSSE(data, target, weightsMatrix):\n",
    "    '''\n",
    "    After gradient descent, this function can be used to determine \n",
    "    the SSE indicating how much error the model has over the data and its \n",
    "    predictions.\n",
    "     \n",
    "    :param testData: testing data dataframe object\n",
    "    :param target: target column name\n",
    "    '''\n",
    "\n",
    "    targetCol = data[target].values.tolist()\n",
    "\n",
    "    testData = data.drop(columns=[target])\n",
    "    testRowsList = testData.values.tolist()\n",
    "    SSE = 0\n",
    "\n",
    "    # calculate squared errors for each row in testing data and sum them for the SSE\n",
    "    for n in range(len(testRowsList)):\n",
    "        row = testRowsList[n]\n",
    "        row = np.array(row)\n",
    "\n",
    "        prediction = float(np.sum((weightsMatrix.T * row)))\n",
    "        actual = float(targetCol[n])\n",
    "#         print(row, \"\\nprediction:\", prediction, \"actual:\", actual, \"  \")\n",
    "\n",
    "        SSE += (prediction - actual) * (prediction - actual)\n",
    "\n",
    "    return SSE"
   ]
  },
  {
   "cell_type": "code",
   "execution_count": 6,
   "metadata": {
    "id": "OdBjxVGyTCyQ"
   },
   "outputs": [],
   "source": [
    "def calculateRSqrd(data, target, weightsMatrix):\n",
    "    '''\n",
    "    This function can be used to determine \n",
    "    the R-squared indicating the variability of the data around the model.\n",
    "     \n",
    "    :param testData: testing data dataframe object\n",
    "    :param target: target column name\n",
    "    :param weightsMatrix: linear model weights\n",
    "    '''\n",
    "\n",
    "    targetCol = data[target].values.tolist()\n",
    "    y_mean = np.mean(targetCol)\n",
    "\n",
    "    testData = data.drop(columns=[target])\n",
    "    testRowsList = testData.values.tolist()\n",
    "    SSE = 0\n",
    "    totalSumSq = 0\n",
    "    # calculate squared errors for each row in testing data and sum them for the SSE\n",
    "    for n in range(len(testRowsList)):\n",
    "        row = testRowsList[n]\n",
    "        row = np.array(row)\n",
    "\n",
    "        prediction = float(np.sum((weightsMatrix.T * row)))\n",
    "        actual = float(targetCol[n])\n",
    "#         print(row, \"\\nprediction:\", prediction, \"actual:\", actual, \"  \")\n",
    "        totalSumSq += (actual - y_mean) ** 2\n",
    "        SSE += (prediction - actual) * (prediction - actual)\n",
    "\n",
    "    rSquared = 1 - (SSE/totalSumSq)\n",
    "\n",
    "    return rSquared"
   ]
  },
  {
   "cell_type": "code",
   "execution_count": 7,
   "metadata": {
    "id": "I4q5FqM1A6YQ"
   },
   "outputs": [],
   "source": [
    "def zScoreNormalization(originalData, target, normParams=None):\n",
    "    '''\n",
    "    z-score normalization of features in data parameter. If mean and standard\n",
    "    deviation are provided for each feature in normParams, then those are used to\n",
    "    normalize the data.\n",
    "    \n",
    "    :param originalData: pandas dataframe\n",
    "    :param target: target column name\n",
    "    :param normParams: list of (mean, stdDev) tuples for each feature\n",
    "    '''\n",
    "\n",
    "    data = originalData.copy()\n",
    "\n",
    "    colNames = getColNames(data)\n",
    "\n",
    "    if target in colNames:\n",
    "        colNames.remove(target)\n",
    "\n",
    "    testing = False\n",
    "\n",
    "    minMaxParams = []\n",
    "\n",
    "    # if using given normalization parameters to normalize data\n",
    "    if normParams is None:\n",
    "        normParams = []\n",
    "    else:\n",
    "        testing = True\n",
    "\n",
    "    count = 0\n",
    "\n",
    "    for col in colNames:\n",
    "        if col == '0':\n",
    "            normParams.append((1, 0))\n",
    "            count += 1\n",
    "            continue\n",
    "        # min and max feature values for feature re-scaling if wanted\n",
    "        minMaxParams.append((data[col].min(), data[col].max()))\n",
    "\n",
    "        if len(data[col].unique()) == 1:\n",
    "            # data[col] = 0\n",
    "            data[col] = 1\n",
    "\n",
    "            if not testing:\n",
    "                normParams.append((0, 0))\n",
    "\n",
    "            count += 1\n",
    "            continue\n",
    "        if not testing:\n",
    "            mean = data[col].mean()\n",
    "            stdDev = st.pstdev(list(data[col]))\n",
    "            normParams.append((mean, stdDev))\n",
    "        else:\n",
    "            mean, stdDev = normParams[count]\n",
    "\n",
    "        data[col] = data[col] - mean\n",
    "        data[col] = round(data[col] / stdDev, 3)\n",
    "\n",
    "        count += 1\n",
    "\n",
    "    return data, normParams, minMaxParams"
   ]
  },
  {
   "cell_type": "code",
   "execution_count": 8,
   "metadata": {
    "id": "gZaxDWuAj-Mr"
   },
   "outputs": [],
   "source": [
    "def gradientDescent(originalData, target, learningRate, tolerance):\n",
    "    '''\n",
    "    Calculates the weights to assign to features using gradient descent. Also\n",
    "    returns RMSE list of each RMSE per iteration and R-squared values.\n",
    "    \n",
    "    :param originalData: pandas dataframe data\n",
    "    :param target: target column name\n",
    "    :param learningRate: learning rate to limit gradient descent jumps\n",
    "    :param tolerance: tolerence threshold to determine when gradient descent\n",
    "                        has converged\n",
    "    '''\n",
    "\n",
    "    data = originalData.copy()\n",
    "\n",
    "    colNames = getColNames(data)\n",
    "\n",
    "    featList = colNames.copy()\n",
    "    if target in colNames:\n",
    "        featList.remove(target)\n",
    "\n",
    "    weights = [[0]] * len(featList)\n",
    "\n",
    "    weightsMatrix = np.array(weights)\n",
    "\n",
    "    targetCol = data[target].values.tolist()\n",
    "    targetMatrix = np.array([[n] for n in targetCol])\n",
    "\n",
    "    dataMatrix = np.array(data.drop(columns=[target]))\n",
    "\n",
    "    converged = False\n",
    "\n",
    "    count = 0\n",
    "\n",
    "    SSE = calculateSSE(data, target, weightsMatrix)\n",
    "    rSqr = calculateRSqrd(data, target, weightsMatrix)\n",
    "    priorRMSE = math.sqrt(SSE / len(data))\n",
    "    RMSEList = [priorRMSE]\n",
    "    rSqrList = [rSqr]\n",
    "\n",
    "    while not converged:\n",
    "        # calculate gradient\n",
    "        gradient = []\n",
    "        for feat in range(len(featList)):\n",
    "            featGrad = 0\n",
    "\n",
    "            for i in range(len(dataMatrix)):\n",
    "                featGrad += ((weightsMatrix.T.dot(dataMatrix[i])) - targetMatrix[i]) * dataMatrix[i][feat]\n",
    "            gradient.append(featGrad)\n",
    "\n",
    "        gradient = np.array(gradient)\n",
    "\n",
    "        newWeights = (weightsMatrix - (learningRate * (gradient)))\n",
    "        weightsMatrix = newWeights\n",
    "\n",
    "        SSE = calculateSSE(data, target, weightsMatrix)\n",
    "        rSqr = calculateRSqrd(data, target, weightsMatrix)\n",
    "\n",
    "        currentRMSE = math.sqrt(SSE / len(data))\n",
    "\n",
    "        if (abs(priorRMSE - currentRMSE) < tolerance):\n",
    "            converged = True\n",
    "\n",
    "        priorRMSE = currentRMSE\n",
    "        RMSEList.append(priorRMSE)\n",
    "        rSqrList.append(rSqr)\n",
    "\n",
    "        count += 1\n",
    "        if count >= 1000:\n",
    "            converged = True\n",
    "\n",
    "    return weightsMatrix, RMSEList, rSqrList"
   ]
  },
  {
   "cell_type": "code",
   "execution_count": 9,
   "metadata": {
    "id": "Z7yX-Eqx_ecc"
   },
   "outputs": [],
   "source": [
    "def gradientDescentRegularized(originalData, target, learningRate, tolerance):\n",
    "    '''\n",
    "    Calculates the weights to assign to features using gradient descent. Also\n",
    "    returns RMSE list of each RMSE per iteration and R-squared values.\n",
    "    \n",
    "    :param originalData: pandas dataframe data\n",
    "    :param target: target column name\n",
    "    :param learningRate: learning rate to limit gradient descent jumps\n",
    "    :param tolerance: tolerence threshold to determine when gradient descent\n",
    "                        has converged\n",
    "    '''\n",
    "\n",
    "    data = originalData.copy()\n",
    "\n",
    "    colNames = getColNames(data)\n",
    "\n",
    "    featList = colNames.copy()\n",
    "    if target in colNames:\n",
    "        featList.remove(target)\n",
    "\n",
    "    weights = [[0]] * len(featList)\n",
    "\n",
    "    weightsMatrix = np.array(weights)\n",
    "\n",
    "    targetCol = data[target].values.tolist()\n",
    "    targetMatrix = np.array([[n] for n in targetCol])\n",
    "\n",
    "    dataMatrix = np.array(data.drop(columns=[target]))\n",
    "\n",
    "    converged = False\n",
    "\n",
    "    count = 0\n",
    "\n",
    "    SSE = calculateSSE(data, target, weightsMatrix)\n",
    "    rSqr = calculateRSqrd(data, target, weightsMatrix)\n",
    "    priorRMSE = math.sqrt(SSE / len(data))\n",
    "    RMSEList = [priorRMSE]\n",
    "    rSqrList = [rSqr]\n",
    "\n",
    "    while not converged:\n",
    "        # calculate gradient\n",
    "        gradient = []\n",
    "        for feat in range(len(featList)):\n",
    "            featGrad = 0\n",
    "\n",
    "            for i in range(len(dataMatrix)):\n",
    "                featGrad += ((weightsMatrix.T.dot(dataMatrix[i])) - targetMatrix[i]) * dataMatrix[i][feat]\n",
    "            gradient.append(featGrad)\n",
    "\n",
    "        gradient = np.array(gradient)\n",
    "\n",
    "        # Regularize weights during gradient descent\n",
    "        lambdaVar = 1/2\n",
    "        regularization = 2 * lambdaVar * weightsMatrix\n",
    "\n",
    "        newWeights = (weightsMatrix - (learningRate * (gradient + regularization)))\n",
    "        weightsMatrix = newWeights\n",
    "\n",
    "        SSE = calculateSSE(data, target, weightsMatrix)\n",
    "        rSqr = calculateRSqrd(data, target, weightsMatrix)\n",
    "\n",
    "        currentRMSE = math.sqrt(SSE / len(data))\n",
    "\n",
    "        if (abs(priorRMSE - currentRMSE) < tolerance):\n",
    "            converged = True\n",
    "\n",
    "        priorRMSE = currentRMSE\n",
    "        RMSEList.append(priorRMSE)\n",
    "        rSqrList.append(rSqr)\n",
    "\n",
    "        count += 1\n",
    "        if count >= 1000:\n",
    "            converged = True\n",
    "\n",
    "    return weightsMatrix, RMSEList, rSqrList"
   ]
  },
  {
   "cell_type": "markdown",
   "metadata": {},
   "source": [
    "housing.csv is in the 'datasets' folder of the repository. Please change the file path accordingly."
   ]
  },
  {
   "cell_type": "code",
   "execution_count": 10,
   "metadata": {
    "colab": {
     "base_uri": "https://localhost:8080/",
     "height": 283
    },
    "id": "4vtwDej-7oYJ",
    "outputId": "7f9cae5e-47b0-4b09-93e7-b2fef8469eaf"
   },
   "outputs": [
    {
     "name": "stdout",
     "output_type": "stream",
     "text": [
      "     0        1     2      3   4      5      6     7       8   9    10    11      12    13    14\n",
      "0     1  0.00632  18.0   2.31   0  0.538  6.575  65.2  4.0900   1  296  15.3  396.90  4.98  24.0\n",
      "1     1  0.00632  18.0   2.31   0  0.538  6.575  65.2  4.0900   1  296  15.3  396.90  4.98  24.0\n",
      "2     1  0.02731   0.0   7.07   0  0.469  6.421  78.9  4.9671   2  242  17.8  396.90  9.14  21.6\n",
      "3     1  0.02729   0.0   7.07   0  0.469  7.185  61.1  4.9671   2  242  17.8  392.83  4.03  34.7\n",
      "4     1  0.03237   0.0   2.18   0  0.458  6.998  45.8  6.0622   3  222  18.7  394.63  2.94  33.4\n",
      "..   ..      ...   ...    ...  ..    ...    ...   ...     ...  ..  ...   ...     ...   ...   ...\n",
      "502   1  0.06263   0.0  11.93   0  0.573  6.593  69.1  2.4786   1  273  21.0  391.99  9.67  22.4\n",
      "503   1  0.04527   0.0  11.93   0  0.573  6.120  76.7  2.2875   1  273  21.0  396.90  9.08  20.6\n",
      "504   1  0.06076   0.0  11.93   0  0.573  6.976  91.0  2.1675   1  273  21.0  396.90  5.64  23.9\n",
      "505   1  0.10959   0.0  11.93   0  0.573  6.794  89.3  2.3889   1  273  21.0  393.45  6.48  22.0\n",
      "506   1  0.04741   0.0  11.93   0  0.573  6.030  80.8  2.5050   1  273  21.0  396.90  7.88  11.9\n",
      "\n",
      "[507 rows x 15 columns]\n"
     ]
    }
   ],
   "source": [
    "# column names initialized\n",
    "colNames = range(14)\n",
    "\n",
    "# import data file\n",
    "try:\n",
    "    housingData = pd.read_csv(\"drive/My Drive/Colab Notebooks/datasets/housing.csv\", names=colNames)\n",
    "except:\n",
    "    print(\"File not found\")\n",
    "\n",
    "# add constant feature for w0\n",
    "housingData.insert(0, 'constant', 1)\n",
    "colNames = range(15)\n",
    "\n",
    "housingData.columns = colNames\n",
    "target = colNames[-1]\n",
    "\n",
    "print(housingData)"
   ]
  },
  {
   "cell_type": "markdown",
   "metadata": {
    "id": "_DquVLd3B2V-"
   },
   "source": [
    "# Linear Regression without Regularization\n",
    "Below, using linear regression with gradient descent to calculate the feature weights to approximate house prices based on the given data, the R-squared score of this model is ~0.74. Although this is the base model that I'm using, I used z-score normalization of the data already because otherwise the weights calculated were going out of bounds and reaching infinity. The model as it is makes quite accurate predictions, and the relatively high R-Squared value of ~0.74 indicates that the model explains 74% of the variability around the mean. \n",
    "\n",
    "One thing which I can do to try and improve the R-Squared value is to regularize the model to prevent overfitting and weights which are uneccessarily large.\n"
   ]
  },
  {
   "cell_type": "code",
   "execution_count": 20,
   "metadata": {
    "colab": {
     "base_uri": "https://localhost:8080/",
     "height": 934
    },
    "id": "cqt2vd-s8M_d",
    "outputId": "4dbb774c-fb1c-4529-e78e-e1267eb4f771"
   },
   "outputs": [
    {
     "name": "stdout",
     "output_type": "stream",
     "text": [
      "Weights for normalized data using Gradient Descent:\n",
      "[[22.58161363]\n",
      " [-0.72264046]\n",
      " [ 0.67480229]\n",
      " [-0.29773879]\n",
      " [ 0.78693944]\n",
      " [-1.13830828]\n",
      " [ 3.37383753]\n",
      " [-0.08582672]\n",
      " [-2.24259217]\n",
      " [ 0.857243  ]\n",
      " [-0.29839976]\n",
      " [-1.85224039]\n",
      " [ 1.15007857]\n",
      " [-3.48653627]]\n",
      "Training RMSE: 5.0180932821141075\n",
      "Testing RMSE: 4.260188473966751\n",
      "Train R-squared: 0.7227595625525519\n",
      "Test R-squared: 0.7436003789783528\n"
     ]
    },
    {
     "data": {
      "image/png": "[encoded data removed]",
      "text/plain": [
       "<Figure size 432x288 with 1 Axes>"
      ]
     },
     "metadata": {
      "needs_background": "light",
      "tags": []
     },
     "output_type": "display_data"
    },
    {
     "data": {
      "image/png": "[encoded data removed]",
      "text/plain": [
       "<Figure size 432x288 with 1 Axes>"
      ]
     },
     "metadata": {
      "needs_background": "light",
      "tags": []
     },
     "output_type": "display_data"
    }
   ],
   "source": [
    "def linearRegression(originalData, target, learningRate, tolerance):\n",
    "    # prevent changes to original data\n",
    "    data = originalData.copy()\n",
    "\n",
    "    # shuffle data\n",
    "    dataShuffled = data.sample(frac=1).reset_index(drop=True)\n",
    "    \n",
    "    numRows = len(dataShuffled)\n",
    "    oneThirdRows = round(numRows / 3)\n",
    "\n",
    "    # split data\n",
    "    testData = dataShuffled[0 : oneThirdRows]\n",
    "    trainData = dataShuffled.drop(dataShuffled.index[0 : oneThirdRows])\n",
    "\n",
    "    # normalize data\n",
    "    normTrainData, normParams, _ = zScoreNormalization(trainData, target)\n",
    "    normTestData, _, _ = zScoreNormalization(testData, target, normParams=normParams)\n",
    "\n",
    "    #calculate weights\n",
    "    weightsMatrix, RMSEList, rSqrList = gradientDescent(normTrainData, target, learningRate, tolerance)\n",
    "    print(\"Weights for normalized data using Gradient Descent:\")\n",
    "    print(weightsMatrix)\n",
    "\n",
    "    trainSSE = calculateSSE(normTrainData, target, weightsMatrix)\n",
    "    trainRMSE = math.sqrt(trainSSE / len(normTrainData))\n",
    "    print('Training RMSE:', trainRMSE)\n",
    "\n",
    "    testSSE = calculateSSE(normTestData, target, weightsMatrix)\n",
    "    testRMSE = math.sqrt(testSSE / len(normTestData))\n",
    "    print('Testing RMSE:', testRMSE)\n",
    "\n",
    "\n",
    "    trainRsq = calculateRSqrd(normTrainData, target, weightsMatrix)\n",
    "    testRsq = calculateRSqrd(normTestData, target, weightsMatrix)\n",
    "    print(\"Train R-squared:\", trainRsq)\n",
    "    print(\"Test R-squared:\", testRsq)\n",
    "\n",
    "    # plot RMSE over iteration\n",
    "    title = \"RMSE Training Plot\"\n",
    "    plt.plot(RMSEList, 'bo')\n",
    "    plt.title(title)\n",
    "    plt.ylabel(\"RMSE Values\")\n",
    "    plt.xlabel(\"Iteration Number\")\n",
    "    plt.show()\n",
    "\n",
    "    # plot R-Squared over iteration\n",
    "    title = \"R-Squared Training Plot\"\n",
    "    plt.plot(rSqrList, 'bo')\n",
    "    plt.title(title)\n",
    "    plt.ylabel(\"R-Squared Values\")\n",
    "    plt.xlabel(\"Iteration Number\")\n",
    "    plt.show()\n",
    "\n",
    "# set learning rate and tolerance for gradient descent\n",
    "learningRate = 0.0004\n",
    "tolerance = 0.005\n",
    "linearRegression(housingData, target, learningRate, tolerance)    "
   ]
  },
  {
   "cell_type": "markdown",
   "metadata": {
    "id": "AUqA_yJYGkPJ"
   },
   "source": [
    "# Linear Regression with Regularization\n",
    "After implementing regularization using L2-norm (aka ridge-regression) it appears that it did not make any significant difference to out model. We got almost the exact same weights, and R-Squared value of ~0.74 .\n",
    "\n",
    "Because there was almost no change in the results when including the use of regularization, I will try using 2nd-degree polynomial regression (using polynomial kernel with linear regression) and seeing if that improves the error and R-squared scores for test and training data in the next model attempt.\n",
    "\n"
   ]
  },
  {
   "cell_type": "code",
   "execution_count": 22,
   "metadata": {
    "colab": {
     "base_uri": "https://localhost:8080/",
     "height": 934
    },
    "id": "cV8_oAPykOot",
    "outputId": "363ebe09-3cce-4c67-c405-0a846b250284"
   },
   "outputs": [
    {
     "name": "stdout",
     "output_type": "stream",
     "text": [
      "Weights for normalized data using Gradient Descent with Regularization:\n",
      "[[ 2.26366887e+01]\n",
      " [-8.04362464e-01]\n",
      " [ 7.84202508e-01]\n",
      " [-3.53061060e-01]\n",
      " [ 6.37272896e-01]\n",
      " [-1.18228978e+00]\n",
      " [ 3.56458660e+00]\n",
      " [ 3.97442322e-03]\n",
      " [-2.23701027e+00]\n",
      " [ 1.10629075e+00]\n",
      " [-5.35471853e-01]\n",
      " [-1.77444860e+00]\n",
      " [ 1.01423443e+00]\n",
      " [-3.25975432e+00]]\n",
      "Training RMSE: 4.978615790156603\n",
      "Testing RMSE: 4.352787510788609\n",
      "Train R-squared: 0.7232128395355346\n",
      "Test R-squared: 0.7405336616900029\n"
     ]
    },
    {
     "data": {
      "image/png": "[encoded data removed]",
      "text/plain": [
       "<Figure size 432x288 with 1 Axes>"
      ]
     },
     "metadata": {
      "needs_background": "light",
      "tags": []
     },
     "output_type": "display_data"
    },
    {
     "data": {
      "image/png": "[encoded data removed]",
      "text/plain": [
       "<Figure size 432x288 with 1 Axes>"
      ]
     },
     "metadata": {
      "needs_background": "light",
      "tags": []
     },
     "output_type": "display_data"
    }
   ],
   "source": [
    "def linearRegressionRegularized(originalData, target, learningRate, tolerance):\n",
    "    # prevent changes to original data\n",
    "    data = originalData.copy()\n",
    "\n",
    "    # shuffle data\n",
    "    dataShuffled = data.sample(frac=1).reset_index(drop=True)\n",
    "    \n",
    "    numRows = len(dataShuffled)\n",
    "    oneThirdRows = round(numRows / 3)\n",
    "\n",
    "    testData = dataShuffled[0 : oneThirdRows]\n",
    "    trainData = dataShuffled.drop(dataShuffled.index[0 : oneThirdRows])\n",
    "\n",
    "    normTrainData, normParams, _ = zScoreNormalization(trainData, target)\n",
    "    normTestData, _, _ = zScoreNormalization(testData, target, normParams=normParams)\n",
    "\n",
    "    weightsMatrix, RMSEList, rSqrList = gradientDescentRegularized(normTrainData, target, learningRate, tolerance)\n",
    "    print(\"Weights for normalized data using Gradient Descent with Regularization:\")\n",
    "    print(weightsMatrix)\n",
    "\n",
    "    trainSSE = calculateSSE(normTrainData, target, weightsMatrix)\n",
    "    trainRMSE = math.sqrt(trainSSE / len(normTrainData))\n",
    "    print('Training RMSE:', trainRMSE)\n",
    "\n",
    "    testSSE = calculateSSE(normTestData, target, weightsMatrix)\n",
    "    testRMSE = math.sqrt(testSSE / len(normTestData))\n",
    "    print('Testing RMSE:', testRMSE)\n",
    "\n",
    "\n",
    "    trainRsq = calculateRSqrd(normTrainData, target, weightsMatrix)\n",
    "    testRsq = calculateRSqrd(normTestData, target, weightsMatrix)\n",
    "    print(\"Train R-squared:\", trainRsq)\n",
    "    print(\"Test R-squared:\", testRsq)\n",
    "\n",
    "    # plot RMSE over iteration\n",
    "    title = \"RMSE Training Plot\"\n",
    "    plt.plot(RMSEList, 'bo')\n",
    "    plt.title(title)\n",
    "    plt.ylabel(\"RMSE Values\")\n",
    "    plt.xlabel(\"Iteration Number\")\n",
    "    plt.show()\n",
    "\n",
    "    # plot R-Squared over iteration\n",
    "    title = \"R-Squared Training Plot\"\n",
    "    plt.plot(rSqrList, 'bo')\n",
    "    plt.title(title)\n",
    "    plt.ylabel(\"R-Squared Values\")\n",
    "    plt.xlabel(\"Iteration Number\")\n",
    "    plt.show()\n",
    "\n",
    "# set learning rate and tolerance for gradient descent\n",
    "learningRate = 0.0004\n",
    "tolerance = 0.005\n",
    "linearRegressionRegularized(housingData, target, learningRate, tolerance)  "
   ]
  },
  {
   "cell_type": "markdown",
   "metadata": {
    "id": "ZT_USC7czrHd"
   },
   "source": [
    "# With Regularization and Polynomial Kernel\n",
    "Even after implementing a polynomial kernel in our linear model to possibly increase the R-squared value or decrease the Root Mean Square Error (RMSE), we can see that from our results they are very very similar (within 1%) to the results that we generated with just the linear features. This implementation below also includes normalization and regularization (L2-norm). \n",
    "\n",
    "Unfortunately, After seeing this result, I have to conclude that as long as I am using a linear model, it would be unlikely that I would be able to get an R-squared value higher than an average ~0.74 without overfitting to the data."
   ]
  },
  {
   "cell_type": "code",
   "execution_count": 13,
   "metadata": {
    "id": "OvqSZ9O6xa-A"
   },
   "outputs": [],
   "source": [
    "def getPolynomialData(originalData, target, p):\n",
    "    '''\n",
    "    Add new features for each feature of higher powers until x^p. Used for\n",
    "    Polynomial Regression.\n",
    "    \n",
    "    :param originalData: pandas dataframe\n",
    "    :param target: target column name\n",
    "    :param p: max polynomial degree value\n",
    "    \n",
    "    '''\n",
    "    data = originalData.copy()\n",
    "\n",
    "    colNames = getColNames(data)\n",
    "\n",
    "    targetCol = data[target]\n",
    "\n",
    "    newData = pd.DataFrame()\n",
    "\n",
    "    for col in colNames:\n",
    "        if col == target:\n",
    "            continue\n",
    "        uniques = list(data[col].unique())\n",
    "        if len(uniques) == 1:\n",
    "            newData = pd.concat([newData.reset_index(drop=True), data[col].reset_index(drop=True)], axis=1)\n",
    "            continue\n",
    "        colExps = pd.DataFrame()\n",
    "\n",
    "        for i in range(1, p + 1):\n",
    "            colExps[i] = data[col].pow(i)\n",
    "\n",
    "        newData = pd.concat([newData.reset_index(drop=True), colExps.reset_index(drop=True)], axis=1)\n",
    "\n",
    "    newData = pd.concat([newData.reset_index(drop=True), targetCol.reset_index(drop=True)], axis=1)\n",
    "\n",
    "    colNames = getColNames(newData)\n",
    "    newColNames = []\n",
    "    for i in range(len(colNames)):\n",
    "        newColNames.append(str(i))\n",
    "    colNames = newColNames\n",
    "    target = colNames[-1]\n",
    "\n",
    "    newData.columns = colNames\n",
    "\n",
    "    return newData, target"
   ]
  },
  {
   "cell_type": "code",
   "execution_count": 15,
   "metadata": {
    "colab": {
     "base_uri": "https://localhost:8080/",
     "height": 1000
    },
    "id": "YFDIEruMwx4S",
    "outputId": "f16bb4a7-a9ef-48d1-e499-f3269b3538e6"
   },
   "outputs": [
    {
     "name": "stdout",
     "output_type": "stream",
     "text": [
      "Weights for normalized data using Gradient Descent with Regularization:\n",
      "[[ 2.25300962e+01]\n",
      " [-4.61472744e-01]\n",
      " [-4.53843544e-01]\n",
      " [ 4.15329012e-01]\n",
      " [ 8.64191602e-01]\n",
      " [-2.88223919e-01]\n",
      " [ 2.94979942e-01]\n",
      " [ 3.63518560e-01]\n",
      " [ 3.63518560e-01]\n",
      " [-1.00147673e+00]\n",
      " [-1.24892383e+00]\n",
      " [ 4.21949045e-01]\n",
      " [ 2.15514988e+00]\n",
      " [-1.03377009e-02]\n",
      " [ 3.45446804e-01]\n",
      " [-2.08832185e+00]\n",
      " [-1.10568297e+00]\n",
      " [ 1.07757937e+00]\n",
      " [ 7.85284084e-01]\n",
      " [-9.48745554e-01]\n",
      " [-3.40390412e-01]\n",
      " [-1.20812896e+00]\n",
      " [-1.07836661e+00]\n",
      " [ 6.85503642e-01]\n",
      " [ 1.99238560e-01]\n",
      " [-3.79588512e+00]\n",
      " [ 9.64801844e-02]]\n",
      "Training RMSE: 4.741223880896391\n",
      "Testing RMSE: 4.442413466579261\n",
      "Train R-squared: 0.7413691825361506\n",
      "Test R-squared: 0.7499057537568103\n"
     ]
    },
    {
     "data": {
      "image/png": "[encoded data removed]",
      "text/plain": [
       "<Figure size 432x288 with 1 Axes>"
      ]
     },
     "metadata": {
      "needs_background": "light",
      "tags": []
     },
     "output_type": "display_data"
    },
    {
     "data": {
      "image/png": "[encoded data removed]",
      "text/plain": [
       "<Figure size 432x288 with 1 Axes>"
      ]
     },
     "metadata": {
      "needs_background": "light",
      "tags": []
     },
     "output_type": "display_data"
    }
   ],
   "source": [
    "def linearRegressionWithSecondDegreePolynomialFeatures(originalData, target, learningRate, tolerance):\n",
    "    # prevent changes to original data\n",
    "    data = originalData.copy()\n",
    "\n",
    "    # shuffle data\n",
    "    dataShuffled = data.sample(frac=1).reset_index(drop=True)\n",
    "\n",
    "    numRows = len(dataShuffled)\n",
    "    oneThirdRows = round(numRows / 3)\n",
    "\n",
    "    testData = dataShuffled[0 : oneThirdRows]\n",
    "    trainData = dataShuffled.drop(dataShuffled.index[0 : oneThirdRows])\n",
    "\n",
    "    # make dataset polynomial to the power of 2\n",
    "    expTrainData, newTarget = getPolynomialData(trainData, target, 2)\n",
    "    expTestData, _ = getPolynomialData(testData, target, 2)\n",
    "    target = newTarget\n",
    "\n",
    "    normTrainData, normParams, _ = zScoreNormalization(expTrainData, target)\n",
    "    normTestData, _, _ = zScoreNormalization(expTestData, target, normParams=normParams)\n",
    "\n",
    "    weightsMatrix, RMSEList, rSqrList = gradientDescentRegularized(normTrainData, target, learningRate, tolerance)\n",
    "    print(\"Weights for normalized data using Gradient Descent with Regularization:\")\n",
    "    print(weightsMatrix)\n",
    "\n",
    "    trainSSE = calculateSSE(normTrainData, target, weightsMatrix)\n",
    "    trainRMSE = math.sqrt(trainSSE / len(normTrainData))\n",
    "    print('Training RMSE:', trainRMSE)\n",
    "\n",
    "    testSSE = calculateSSE(normTestData, target, weightsMatrix)\n",
    "    testRMSE = math.sqrt(testSSE / len(normTestData))\n",
    "    print('Testing RMSE:', testRMSE)\n",
    "\n",
    "\n",
    "    trainRsq = calculateRSqrd(normTrainData, target, weightsMatrix)\n",
    "    testRsq = calculateRSqrd(normTestData, target, weightsMatrix)\n",
    "    print(\"Train R-squared:\", trainRsq)\n",
    "    print(\"Test R-squared:\", testRsq)\n",
    "\n",
    "    # plot RMSE over iteration\n",
    "    title = \"RMSE Training Plot\"\n",
    "    plt.plot(RMSEList, 'bo')\n",
    "    plt.title(title)\n",
    "    plt.ylabel(\"RMSE Values\")\n",
    "    plt.xlabel(\"Iteration Number\")\n",
    "    plt.show()\n",
    "\n",
    "    # plot R-Squared over iteration\n",
    "    title = \"R-Squared Training Plot\"\n",
    "    plt.plot(rSqrList, 'bo')\n",
    "    plt.title(title)\n",
    "    plt.ylabel(\"R-Squared Values\")\n",
    "    plt.xlabel(\"Iteration Number\")\n",
    "    plt.show()\n",
    "\n",
    "# set learning rate and tolerance for gradient descent\n",
    "learningRate = 0.0004\n",
    "tolerance = 0.005\n",
    "linearRegressionWithSecondDegreePolynomialFeatures(housingData, target, learningRate, tolerance)  "
   ]
  }
 ],
 "metadata": {
  "colab": {
   "name": "Q2.ipynb",
   "provenance": []
  },
  "kernelspec": {
   "display_name": "Python 3",
   "language": "python",
   "name": "python3"
  },
  "language_info": {
   "codemirror_mode": {
    "name": "ipython",
    "version": 3
   },
   "file_extension": ".py",
   "mimetype": "text/x-python",
   "name": "python",
   "nbconvert_exporter": "python",
   "pygments_lexer": "ipython3",
   "version": "3.8.5"
  }
 },
 "nbformat": 4,
 "nbformat_minor": 1
}
