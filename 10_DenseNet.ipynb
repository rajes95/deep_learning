{
 "cells": [
  {
   "cell_type": "markdown",
   "metadata": {
    "id": "view-in-github"
   },
   "source": [
    "<a href=\"https://colab.research.google.com/github/CS7140/PA-7/blob/main/Q6.ipynb\" target=\"_parent\"><img src=\"https://colab.research.google.com/assets/colab-badge.svg\" alt=\"Open In Colab\"/></a>"
   ]
  },
  {
   "cell_type": "markdown",
   "metadata": {
    "id": "zdI9S0KdESXl"
   },
   "source": [
    "Rajesh Sakhamuru\n",
    "\n",
    "11-7-2020\n",
    "# DenseNet Implementation\n",
    "DenseNet implementation is below:"
   ]
  },
  {
   "cell_type": "code",
   "execution_count": 1,
   "metadata": {
    "id": "isu-zlAEOIb5"
   },
   "outputs": [],
   "source": [
    "import numpy as np\n",
    "import pandas as pd\n",
    "import tensorflow as tf\n",
    "import matplotlib.pyplot as plt"
   ]
  },
  {
   "cell_type": "code",
   "execution_count": 2,
   "metadata": {
    "colab": {
     "base_uri": "https://localhost:8080/"
    },
    "id": "eziw3i7-Ep-K",
    "outputId": "c9e2f7c7-4073-444d-e542-7e32f73e2175"
   },
   "outputs": [
    {
     "name": "stdout",
     "output_type": "stream",
     "text": [
      "INFO:tensorflow:Using MirroredStrategy with devices ('/job:localhost/replica:0/task:0/device:GPU:0',)\n"
     ]
    }
   ],
   "source": [
    "strategy = tf.distribute.MirroredStrategy()"
   ]
  },
  {
   "cell_type": "code",
   "execution_count": 3,
   "metadata": {
    "id": "zppkmTRuEtKt"
   },
   "outputs": [],
   "source": [
    "with strategy.scope():\n",
    "    (train_images, train_labels), (test_images, test_labels) = tf.keras.datasets.fashion_mnist.load_data()\n",
    "\n",
    "    train_labels = tf.convert_to_tensor(train_labels)\n",
    "    test_labels = tf.convert_to_tensor(test_labels)\n",
    "\n",
    "    train_images = train_images.reshape((train_images.shape[0], 28, 28, 1))\n",
    "    test_images = test_images.reshape((test_images.shape[0], 28, 28, 1))\n",
    "\n",
    "    # resizes images and pads resized image with 0s so convolutions+pooling don't shrink\n",
    "    # resolution too much\n",
    "    train_images = tf.image.resize_with_pad(train_images, 112, 112)\n",
    "    test_images = tf.image.resize_with_pad(test_images, 112, 112)\n",
    "\n",
    "    train_images = tf.convert_to_tensor((train_images) / 255)\n",
    "    test_images = tf.convert_to_tensor((test_images) / 255)"
   ]
  },
  {
   "cell_type": "code",
   "execution_count": 4,
   "metadata": {
    "id": "ZLg19C-WE0yR"
   },
   "outputs": [],
   "source": [
    "class convBlock(tf.keras.layers.Layer):\n",
    "    def __init__(self, numFilters):\n",
    "        super(convBlock, self).__init__()\n",
    "        self.block = tf.keras.Sequential()\n",
    "        self.block.add(tf.keras.layers.BatchNormalization())\n",
    "        self.block.add(tf.keras.layers.ReLU())\n",
    "        self.block.add(tf.keras.layers.Conv2D(filters=numFilters, kernel_size=(3, 3), padding='same'))\n",
    "    \n",
    "    def call(self, X):\n",
    "        Y = X\n",
    "        Y = self.block(Y)\n",
    "        Y = tf.keras.layers.concatenate([X,Y], axis=-1)\n",
    "        return Y"
   ]
  },
  {
   "cell_type": "code",
   "execution_count": 5,
   "metadata": {
    "id": "aIjYyyUjJUkI"
   },
   "outputs": [],
   "source": [
    "class denseBlock(tf.keras.layers.Layer):\n",
    "    def __init__(self, numConvs, numFilters):\n",
    "        super(denseBlock, self).__init__()\n",
    "        self.block = tf.keras.Sequential()\n",
    "        for _ in range(numConvs):\n",
    "            self.block.add(convBlock(numFilters))\n",
    "    \n",
    "    def call(self, X):\n",
    "        return self.block(X)"
   ]
  },
  {
   "cell_type": "code",
   "execution_count": 6,
   "metadata": {
    "id": "-LYGIa3aKcvD"
   },
   "outputs": [],
   "source": [
    "class transitionBlock(tf.keras.layers.Layer):\n",
    "    def __init__(self, numFilters):\n",
    "        super(transitionBlock, self).__init__()\n",
    "        self.block = tf.keras.Sequential()\n",
    "        self.block.add(tf.keras.layers.BatchNormalization())\n",
    "        self.block.add(tf.keras.layers.ReLU())\n",
    "        self.block.add(tf.keras.layers.Conv2D(numFilters, kernel_size=1))\n",
    "        self.block.add(tf.keras.layers.AvgPool2D(pool_size=2, strides=2))\n",
    "    \n",
    "    def call(self, X):\n",
    "        return self.block(X)"
   ]
  },
  {
   "cell_type": "code",
   "execution_count": 7,
   "metadata": {
    "id": "aPiUXLm_NpGA"
   },
   "outputs": [],
   "source": [
    "def denseNet(lr=0.1):\n",
    "    densNet = tf.keras.models.Sequential([\n",
    "        tf.keras.layers.Conv2D(64, kernel_size=7, strides=2, padding='same'),\n",
    "        tf.keras.layers.BatchNormalization(),\n",
    "        tf.keras.layers.ReLU(),\n",
    "        tf.keras.layers.MaxPool2D(pool_size=3, strides=2, padding='same')\n",
    "    ])\n",
    "    \n",
    "    densNet.add(denseBlock(4, 32))\n",
    "    densNet.add(transitionBlock(96))\n",
    "    densNet.add(denseBlock(4, 32))\n",
    "    densNet.add(transitionBlock(112))\n",
    "    densNet.add(denseBlock(4, 32))\n",
    "    densNet.add(transitionBlock(120))\n",
    "    densNet.add(denseBlock(4, 32))\n",
    "\n",
    "    densNet.add(tf.keras.layers.BatchNormalization())\n",
    "    densNet.add(tf.keras.layers.ReLU())\n",
    "    densNet.add(tf.keras.layers.GlobalAvgPool2D())\n",
    "    densNet.add(tf.keras.layers.Flatten())\n",
    "    densNet.add(tf.keras.layers.Dense(10))\n",
    "\n",
    "    optimizer = tf.keras.optimizers.SGD(learning_rate=lr)\n",
    "    densNet.compile(optimizer=optimizer,\n",
    "              loss=tf.keras.losses.SparseCategoricalCrossentropy(from_logits=True),\n",
    "              metrics=['accuracy'])\n",
    "    return densNet"
   ]
  },
  {
   "cell_type": "code",
   "execution_count": 8,
   "metadata": {
    "id": "0X6wAaxoPp7i"
   },
   "outputs": [],
   "source": [
    "def plotAccuracyAndLoss(history, epochs):\n",
    "    plt.title(\"Train vs Test Accuracy over Epochs\")\n",
    "    plt.plot(range(1,epochs+1), history.history['accuracy'], 'b-', label='train accuracy')\n",
    "    plt.plot(range(1,epochs+1), history.history['val_accuracy'], 'r-', label='test accuracy')\n",
    "    plt.ylabel(\"accuracy\")\n",
    "    plt.xlabel(\"epoch number\")\n",
    "    plt.legend()\n",
    "    plt.show()\n",
    "\n",
    "    plt.title(\"Train vs Test Loss over Epochs\")\n",
    "    plt.plot(range(1,epochs+1), history.history['loss'], 'b-', label='train loss')\n",
    "    plt.plot(range(1,epochs+1), history.history['val_loss'], 'r-', label='test loss')\n",
    "    plt.ylabel(\"loss\")\n",
    "    plt.xlabel(\"epoch number\")\n",
    "    plt.legend()\n",
    "    plt.show()"
   ]
  },
  {
   "cell_type": "code",
   "execution_count": 10,
   "metadata": {
    "colab": {
     "base_uri": "https://localhost:8080/",
     "height": 953
    },
    "id": "QMq0kqFoPnFV",
    "outputId": "8ba90070-ea91-447d-f909-26fb0abea562"
   },
   "outputs": [
    {
     "name": "stdout",
     "output_type": "stream",
     "text": [
      "Epoch 1/10\n",
      "469/469 - 46s - loss: 0.4726 - accuracy: 0.8285 - val_loss: 1.0482 - val_accuracy: 0.6593\n",
      "Epoch 2/10\n",
      "469/469 - 44s - loss: 0.2868 - accuracy: 0.8953 - val_loss: 0.6049 - val_accuracy: 0.7674\n",
      "Epoch 3/10\n",
      "469/469 - 44s - loss: 0.2420 - accuracy: 0.9110 - val_loss: 0.3099 - val_accuracy: 0.8866\n",
      "Epoch 4/10\n",
      "469/469 - 44s - loss: 0.2122 - accuracy: 0.9216 - val_loss: 0.2554 - val_accuracy: 0.9090\n",
      "Epoch 5/10\n",
      "469/469 - 44s - loss: 0.1910 - accuracy: 0.9300 - val_loss: 0.2353 - val_accuracy: 0.9167\n",
      "Epoch 6/10\n",
      "469/469 - 44s - loss: 0.1765 - accuracy: 0.9353 - val_loss: 0.3630 - val_accuracy: 0.8671\n",
      "Epoch 7/10\n",
      "469/469 - 44s - loss: 0.1611 - accuracy: 0.9404 - val_loss: 0.2895 - val_accuracy: 0.8981\n",
      "Epoch 8/10\n",
      "469/469 - 44s - loss: 0.1494 - accuracy: 0.9444 - val_loss: 0.3035 - val_accuracy: 0.8949\n",
      "Epoch 9/10\n",
      "469/469 - 44s - loss: 0.1394 - accuracy: 0.9482 - val_loss: 0.2976 - val_accuracy: 0.8970\n",
      "Epoch 10/10\n",
      "469/469 - 44s - loss: 0.1266 - accuracy: 0.9541 - val_loss: 0.2530 - val_accuracy: 0.9098\n"
     ]
    },
    {
     "data": {
      "image/png": "[encoded data removed]",
      "text/plain": [
       "<Figure size 432x288 with 1 Axes>"
      ]
     },
     "metadata": {
      "needs_background": "light",
      "tags": []
     },
     "output_type": "display_data"
    },
    {
     "data": {
      "image/png": "[encoded data removed]",
      "text/plain": [
       "<Figure size 432x288 with 1 Axes>"
      ]
     },
     "metadata": {
      "needs_background": "light",
      "tags": []
     },
     "output_type": "display_data"
    }
   ],
   "source": [
    "with strategy.scope():\n",
    "    densNet = denseNet(lr=0.1)\n",
    "    history1 = densNet.fit(train_images, train_labels, epochs=10, batch_size=128, validation_data=(test_images, test_labels), verbose=2)\n",
    "    plotAccuracyAndLoss(history1,10)"
   ]
  },
  {
   "cell_type": "markdown",
   "metadata": {
    "id": "94BupUWmXaKi"
   },
   "source": [
    "As we can see in the DenseNet model summary below, DenseNet when trained on 112x112 pixel images has 764,834 parameters while ResNet had an order of magnitude more at 11,186,186 parameters. \n",
    "\n",
    "DenseNet, like ResNet obtains additional inputs from all preceding layers, however rather than use addition, concatanation is used. The advantage of using concatanation is that the following layers recieve a collective knowledge of the prior layers rather than just a summed knowledge without descreetly knowing how each layer contributed to the sum. The reason that DenseNet's model parameters is smaller than ResNet is because since each layer gets what are essentially feature maps of all preceding layers, DenseNet can have fewer channels added in each subsequent layer and still achieve the accuracy of ResNet while being sleeker and requiring fewer computational resources."
   ]
  },
  {
   "cell_type": "code",
   "execution_count": 11,
   "metadata": {
    "colab": {
     "base_uri": "https://localhost:8080/"
    },
    "id": "huSX5OFdQmjs",
    "outputId": "483d2d89-76a2-479a-df78-4c84a778083f"
   },
   "outputs": [
    {
     "name": "stdout",
     "output_type": "stream",
     "text": [
      "Model: \"sequential_24\"\n",
      "_________________________________________________________________\n",
      "Layer (type)                 Output Shape              Param #   \n",
      "=================================================================\n",
      "conv2d_20 (Conv2D)           (None, 56, 56, 64)        3200      \n",
      "_________________________________________________________________\n",
      "batch_normalization_21 (Batc (None, 56, 56, 64)        256       \n",
      "_________________________________________________________________\n",
      "re_lu_21 (ReLU)              (None, 56, 56, 64)        0         \n",
      "_________________________________________________________________\n",
      "max_pooling2d_1 (MaxPooling2 (None, 28, 28, 64)        0         \n",
      "_________________________________________________________________\n",
      "dense_block_4 (denseBlock)   (None, 28, 28, 192)       130944    \n",
      "_________________________________________________________________\n",
      "transition_block_3 (transiti (None, 14, 14, 96)        19296     \n",
      "_________________________________________________________________\n",
      "dense_block_5 (denseBlock)   (None, 14, 14, 224)       168320    \n",
      "_________________________________________________________________\n",
      "transition_block_4 (transiti (None, 7, 7, 112)         26096     \n",
      "_________________________________________________________________\n",
      "dense_block_6 (denseBlock)   (None, 7, 7, 240)         187008    \n",
      "_________________________________________________________________\n",
      "transition_block_5 (transiti (None, 3, 3, 120)         29880     \n",
      "_________________________________________________________________\n",
      "dense_block_7 (denseBlock)   (None, 3, 3, 248)         196352    \n",
      "_________________________________________________________________\n",
      "batch_normalization_41 (Batc (None, 3, 3, 248)         992       \n",
      "_________________________________________________________________\n",
      "re_lu_41 (ReLU)              (None, 3, 3, 248)         0         \n",
      "_________________________________________________________________\n",
      "global_average_pooling2d_1 ( (None, 248)               0         \n",
      "_________________________________________________________________\n",
      "flatten_1 (Flatten)          (None, 248)               0         \n",
      "_________________________________________________________________\n",
      "dense_1 (Dense)              (None, 10)                2490      \n",
      "=================================================================\n",
      "Total params: 764,834\n",
      "Trainable params: 758,226\n",
      "Non-trainable params: 6,608\n",
      "_________________________________________________________________\n"
     ]
    }
   ],
   "source": [
    "densNet.summary()"
   ]
  }
 ],
 "metadata": {
  "accelerator": "GPU",
  "colab": {
   "collapsed_sections": [],
   "name": "Q6.ipynb",
   "provenance": []
  },
  "kernelspec": {
   "display_name": "Python 3",
   "language": "python",
   "name": "python3"
  },
  "language_info": {
   "codemirror_mode": {
    "name": "ipython",
    "version": 3
   },
   "file_extension": ".py",
   "mimetype": "text/x-python",
   "name": "python",
   "nbconvert_exporter": "python",
   "pygments_lexer": "ipython3",
   "version": "3.8.5"
  }
 },
 "nbformat": 4,
 "nbformat_minor": 1
}
